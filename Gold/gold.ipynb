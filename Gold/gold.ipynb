{
 "cells": [
  {
   "cell_type": "markdown",
   "metadata": {
    "application/vnd.databricks.v1+cell": {
     "cellMetadata": {
      "byteLimit": 2048000,
      "rowLimit": 10000
     },
     "inputWidgets": {},
     "nuid": "7161ad68-7ece-4fc2-a33b-3bc896062ab2",
     "showTitle": false,
     "tableResultSettingsMap": {},
     "title": ""
    }
   },
   "source": [
    "## Visualizar em um dashboard todas as instituições culturais do Brasil separadas por estados e região."
   ]
  },
  {
   "cell_type": "markdown",
   "metadata": {
    "application/vnd.databricks.v1+cell": {
     "cellMetadata": {
      "byteLimit": 2048000,
      "rowLimit": 10000
     },
     "inputWidgets": {},
     "nuid": "33d4a328-bd55-45dc-9fbb-08180267d9f7",
     "showTitle": false,
     "tableResultSettingsMap": {},
     "title": ""
    }
   },
   "source": [
    "### Além de gerar a visão do mapa o instituto também precisa filtrar e visualizar informações sobre cada instituição como endereço, descrição, o tipo da instituição, região (norte, nordeste, centro-oeste, sul e sudeste)."
   ]
  },
  {
   "cell_type": "code",
   "execution_count": 0,
   "metadata": {
    "application/vnd.databricks.v1+cell": {
     "cellMetadata": {
      "byteLimit": 2048000,
      "rowLimit": 10000
     },
     "inputWidgets": {},
     "nuid": "cf79488b-8252-4707-8701-87001351c7b9",
     "showTitle": false,
     "tableResultSettingsMap": {},
     "title": ""
    }
   },
   "outputs": [],
   "source": [
    "# ✅ 1. Importações necessárias\n",
    "from pyspark.sql import SparkSession\n",
    "from pyspark.sql.functions import col, count, avg\n",
    "import matplotlib.pyplot as plt\n"
   ]
  },
  {
   "cell_type": "code",
   "execution_count": 0,
   "metadata": {
    "application/vnd.databricks.v1+cell": {
     "cellMetadata": {
      "byteLimit": 2048000,
      "rowLimit": 10000
     },
     "inputWidgets": {},
     "nuid": "0dc5b421-3f35-497f-8f16-9d8f247778de",
     "showTitle": false,
     "tableResultSettingsMap": {},
     "title": ""
    }
   },
   "outputs": [],
   "source": [
    "# ✅ 2. Inicialização da sessão Spark\n",
    "spark = SparkSession.builder.getOrCreate()\n"
   ]
  },
  {
   "cell_type": "code",
   "execution_count": 0,
   "metadata": {
    "application/vnd.databricks.v1+cell": {
     "cellMetadata": {
      "byteLimit": 2048000,
      "rowLimit": 10000
     },
     "inputWidgets": {},
     "nuid": "fbf36bf0-1d44-4f4b-aa15-e7811e33d267",
     "showTitle": false,
     "tableResultSettingsMap": {},
     "title": ""
    }
   },
   "outputs": [],
   "source": [
    "# ✅ 3. Definição dos caminhos\n",
    "silver_path = \"/mnt/eoliveira/silver/museusbr\"\n",
    "gold_path = \"/mnt/eoliveira/gold/museusbr\"\n"
   ]
  },
  {
   "cell_type": "code",
   "execution_count": 0,
   "metadata": {
    "application/vnd.databricks.v1+cell": {
     "cellMetadata": {
      "byteLimit": 2048000,
      "rowLimit": 10000
     },
     "inputWidgets": {},
     "nuid": "6c19f931-77c7-4d87-abf3-ad0fbdd342bb",
     "showTitle": false,
     "tableResultSettingsMap": {},
     "title": ""
    }
   },
   "outputs": [],
   "source": [
    "# ✅ 4. Leitura da Silver\n",
    "df_silver = spark.read.parquet(silver_path)\n",
    "\n",
    "\n"
   ]
  },
  {
   "cell_type": "code",
   "execution_count": 0,
   "metadata": {
    "application/vnd.databricks.v1+cell": {
     "cellMetadata": {
      "byteLimit": 2048000,
      "rowLimit": 10000
     },
     "inputWidgets": {},
     "nuid": "aec96814-b069-4545-b619-55f7ac4b9cbf",
     "showTitle": false,
     "tableResultSettingsMap": {},
     "title": ""
    }
   },
   "outputs": [],
   "source": [
    "# ✅ 5. Confirmação do schema\n",
    "print(\"✅ Schema da Silver:\")\n",
    "df_silver.printSchema()\n"
   ]
  },
  {
   "cell_type": "code",
   "execution_count": 0,
   "metadata": {
    "application/vnd.databricks.v1+cell": {
     "cellMetadata": {
      "byteLimit": 2048000,
      "rowLimit": 10000
     },
     "inputWidgets": {},
     "nuid": "f59fcf26-601e-4127-9aa3-7a3b86e33fef",
     "showTitle": false,
     "tableResultSettingsMap": {},
     "title": ""
    }
   },
   "outputs": [],
   "source": [
    "# ✅ 6. Garantia que 'Regiao' existe\n",
    "if 'Regiao' not in df_silver.columns:\n",
    "    raise ValueError(\"❌ Coluna 'Regiao' não encontrada! Verifique o processamento da Silver.\")\n"
   ]
  },
  {
   "cell_type": "code",
   "execution_count": 0,
   "metadata": {
    "application/vnd.databricks.v1+cell": {
     "cellMetadata": {
      "byteLimit": 2048000,
      "rowLimit": 10000
     },
     "inputWidgets": {},
     "nuid": "0428de20-6fe5-408f-8916-0ac96fb48d9a",
     "showTitle": false,
     "tableResultSettingsMap": {},
     "title": ""
    }
   },
   "outputs": [],
   "source": [
    "# ✅ 7. Criação da Gold: agregações e métricas\n",
    "df_gold = (\n",
    "    df_silver\n",
    "    .groupBy(\"Regiao\", \"UF\")\n",
    "    .agg(\n",
    "        count(\"*\").alias(\"TotalInstituicoes\"),\n",
    "        avg(\"Latitude\").alias(\"MediaLatitude\"),\n",
    "        avg(\"Longitude\").alias(\"MediaLongitude\")\n",
    "    )\n",
    ")\n"
   ]
  },
  {
   "cell_type": "code",
   "execution_count": 0,
   "metadata": {
    "application/vnd.databricks.v1+cell": {
     "cellMetadata": {
      "byteLimit": 2048000,
      "rowLimit": 10000
     },
     "inputWidgets": {},
     "nuid": "a49d1138-084c-46ca-9620-86b70578d32e",
     "showTitle": false,
     "tableResultSettingsMap": {},
     "title": ""
    }
   },
   "outputs": [],
   "source": [
    "# ✅ 8. Exibir schema e amostra da Gold\n",
    "print(\"✅ Schema da Gold:\")\n",
    "df_gold.printSchema()\n",
    "df_gold.show(truncate=False)\n"
   ]
  },
  {
   "cell_type": "code",
   "execution_count": 0,
   "metadata": {
    "application/vnd.databricks.v1+cell": {
     "cellMetadata": {
      "byteLimit": 2048000,
      "rowLimit": 10000
     },
     "inputWidgets": {},
     "nuid": "94379922-6471-484b-8d48-59d98d010d39",
     "showTitle": false,
     "tableResultSettingsMap": {},
     "title": ""
    }
   },
   "outputs": [],
   "source": [
    "# ✅ 9. Persistência da Gold\n",
    "df_gold.write.mode(\"overwrite\").parquet(gold_path)\n",
    "print(f\"✔️ Gold salva com sucesso em: {gold_path}\")\n"
   ]
  },
  {
   "cell_type": "code",
   "execution_count": 0,
   "metadata": {
    "application/vnd.databricks.v1+cell": {
     "cellMetadata": {
      "byteLimit": 2048000,
      "rowLimit": 10000
     },
     "inputWidgets": {},
     "nuid": "74f29854-3072-49e2-9af8-1018c9eaa2e2",
     "showTitle": false,
     "tableResultSettingsMap": {},
     "title": ""
    }
   },
   "outputs": [],
   "source": [
    "# ✅ 10. Publicação: criação de view temporária\n",
    "df_gold.createOrReplaceTempView(\"gold_view\")\n",
    "print(\"✅ View temporária 'gold_view' criada com sucesso.\")\n"
   ]
  },
  {
   "cell_type": "code",
   "execution_count": 0,
   "metadata": {
    "application/vnd.databricks.v1+cell": {
     "cellMetadata": {
      "byteLimit": 2048000,
      "rowLimit": 10000
     },
     "inputWidgets": {},
     "nuid": "52325ce1-2f25-4a86-8512-49833ad0cbbf",
     "showTitle": false,
     "tableResultSettingsMap": {},
     "title": ""
    }
   },
   "outputs": [],
   "source": [
    "# ✅ 11. Total por região\n",
    "resultado = spark.sql(\"\"\"\n",
    "    SELECT \n",
    "        Regiao,\n",
    "        SUM(TotalInstituicoes) AS TotalPorRegiao\n",
    "    FROM gold_view\n",
    "    GROUP BY Regiao\n",
    "    ORDER BY Regiao\n",
    "\"\"\")\n",
    "# ✅ 12. Exibir resultado\n",
    "print(\"✅ Resultado da agregação por Região:\")\n",
    "resultado.show(truncate=False)\n"
   ]
  },
  {
   "cell_type": "code",
   "execution_count": 0,
   "metadata": {
    "application/vnd.databricks.v1+cell": {
     "cellMetadata": {
      "byteLimit": 2048000,
      "rowLimit": 10000
     },
     "inputWidgets": {},
     "nuid": "6169120a-156a-4144-b38d-cf8e5a206856",
     "showTitle": false,
     "tableResultSettingsMap": {},
     "title": ""
    }
   },
   "outputs": [],
   "source": [
    "# Gráfico de barras: total por Região\n",
    "totais_regiao = pandas_df.groupby('Regiao').size().reset_index(name='Total')\n",
    "\n",
    "fig_bar = px.bar(\n",
    "    totais_regiao,\n",
    "    x='Regiao',\n",
    "    y='Total',\n",
    "    color='Regiao',\n",
    "    text='Total',\n",
    "    title='Total de Instituições por Região'\n",
    ")\n",
    "\n",
    "fig_bar.update_traces(textposition='outside')\n",
    "fig_bar.update_layout(uniformtext_minsize=8, uniformtext_mode='hide')\n",
    "\n",
    "fig_bar.show()\n"
   ]
  },
  {
   "cell_type": "code",
   "execution_count": 0,
   "metadata": {
    "application/vnd.databricks.v1+cell": {
     "cellMetadata": {
      "byteLimit": 2048000,
      "rowLimit": 10000
     },
     "inputWidgets": {},
     "nuid": "017544fc-5b61-45a9-a175-40e83edd9853",
     "showTitle": false,
     "tableResultSettingsMap": {},
     "title": ""
    }
   },
   "outputs": [],
   "source": [
    "# ✅ 1. Agregação por Estado\n",
    "resultado_uf = spark.sql(\"\"\"\n",
    "    SELECT \n",
    "        UF,\n",
    "        SUM(TotalInstituicoes) AS TotalPorEstado\n",
    "    FROM gold_view\n",
    "    GROUP BY UF\n",
    "    ORDER BY UF\n",
    "\"\"\")\n",
    "\n",
    "# ✅ 2. Conversão para Pandas\n",
    "pandas_df_uf = resultado_uf.toPandas()\n",
    "\n",
    "# ✅ 3. Plot\n",
    "plt.figure(figsize=(14, 6))\n",
    "bars = plt.bar(pandas_df_uf['UF'], pandas_df_uf['TotalPorEstado'], color='lightgreen')\n",
    "\n",
    "plt.xlabel('Estado (UF)')\n",
    "plt.ylabel('Total de Instituições')\n",
    "plt.title('Total de Instituições Culturais por Estado')\n",
    "plt.xticks(rotation=90)\n",
    "plt.grid(axis='y', linestyle='--', alpha=0.7)\n",
    "\n",
    "# ✅ 4. Adicionar valores no topo de cada barra\n",
    "for bar in bars:\n",
    "    altura = bar.get_height()\n",
    "    plt.text(bar.get_x() + bar.get_width() / 2, altura, f'{int(altura)}', \n",
    "             ha='center', va='bottom', fontsize=9, color='black')\n",
    "\n",
    "plt.tight_layout()\n",
    "plt.show()\n"
   ]
  },
  {
   "cell_type": "code",
   "execution_count": 0,
   "metadata": {
    "application/vnd.databricks.v1+cell": {
     "cellMetadata": {
      "byteLimit": 2048000,
      "rowLimit": 10000
     },
     "inputWidgets": {},
     "nuid": "6a5926a9-7c06-4019-aa84-89dd94dad9eb",
     "showTitle": false,
     "tableResultSettingsMap": {},
     "title": ""
    }
   },
   "outputs": [],
   "source": [
    "# Conversão da Gold para Pandas\n",
    "pandas_df_gold = df_gold.toPandas()\n",
    "\n",
    "# Conversão para Pandas com as colunas necessárias\n",
    "pandas_df = df_silver.select(\n",
    "    'Instituicoes', 'Endereco', 'Descricao', 'Tipo', 'Regiao', 'Latitude', 'Longitude'\n",
    ").toPandas()\n",
    "\n",
    "\n"
   ]
  },
  {
   "cell_type": "code",
   "execution_count": 0,
   "metadata": {
    "application/vnd.databricks.v1+cell": {
     "cellMetadata": {
      "byteLimit": 2048000,
      "rowLimit": 10000
     },
     "inputWidgets": {},
     "nuid": "3e26baae-102d-44fd-80d2-e9e92fd09503",
     "showTitle": false,
     "tableResultSettingsMap": {},
     "title": ""
    }
   },
   "outputs": [],
   "source": [
    "import folium\n",
    "\n",
    "# Criar mapa centralizado\n",
    "m = folium.Map(location=[-15.793889, -47.882778], zoom_start=4)\n",
    "\n",
    "# Adicionar marcadores\n",
    "for idx, row in pandas_df_gold.iterrows():\n",
    "    popup_text = f\"\"\"\n",
    "    <strong>{row['UF']} - {row['Regiao']}</strong><br>\n",
    "    Total de Instituições: {row['TotalInstituicoes']}\n",
    "    \"\"\"\n",
    "    folium.CircleMarker(\n",
    "        location=[row['MediaLatitude'], row['MediaLongitude']],\n",
    "        radius=5 + row['TotalInstituicoes'] * 0.05,  # tamanho proporcional\n",
    "        popup=popup_text,\n",
    "        color='blue',\n",
    "        fill=True,\n",
    "        fill_opacity=0.6\n",
    "    ).add_to(m)\n",
    "\n",
    "# Exibir mapa\n",
    "m\n"
   ]
  },
  {
   "cell_type": "code",
   "execution_count": 0,
   "metadata": {
    "application/vnd.databricks.v1+cell": {
     "cellMetadata": {
      "byteLimit": 2048000,
      "rowLimit": 10000
     },
     "inputWidgets": {},
     "nuid": "4626c9c2-d948-4f5d-921a-7b869e9a4a63",
     "showTitle": false,
     "tableResultSettingsMap": {},
     "title": ""
    }
   },
   "outputs": [],
   "source": [
    "import plotly.express as px\n",
    "\n",
    "# Mapa interativo com Plotly\n",
    "fig_map = px.scatter_mapbox(\n",
    "    pandas_df,\n",
    "    lat=\"Latitude\",\n",
    "    lon=\"Longitude\",\n",
    "    hover_name=\"Instituicoes\",\n",
    "    hover_data=[\"Endereco\", \"Descricao\", \"Tipo\", \"Regiao\"],\n",
    "    color=\"Regiao\",\n",
    "    zoom=3,\n",
    "    height=600\n",
    ")\n",
    "\n",
    "fig_map.update_layout(mapbox_style=\"open-street-map\")\n",
    "fig_map.update_layout(margin={\"r\":0,\"t\":0,\"l\":0,\"b\":0})\n",
    "\n",
    "fig_map.show()\n"
   ]
  },
  {
   "cell_type": "code",
   "execution_count": 0,
   "metadata": {
    "application/vnd.databricks.v1+cell": {
     "cellMetadata": {
      "byteLimit": 2048000,
      "rowLimit": 10000
     },
     "inputWidgets": {},
     "nuid": "d69a5412-f8e2-488c-a9cc-afe0b5e4afe8",
     "showTitle": false,
     "tableResultSettingsMap": {},
     "title": ""
    }
   },
   "outputs": [],
   "source": [
    "# ✅ Visualização da tabela completa\n",
    "import pandas as pd\n",
    "\n",
    "pd.set_option('display.max_rows', None)\n",
    "pd.set_option('display.max_columns', None)\n",
    "\n",
    "pandas_df[['Instituicoes', 'Endereco', 'Descricao', 'Tipo', 'Regiao']]\n"
   ]
  }
 ],
 "metadata": {
  "application/vnd.databricks.v1+notebook": {
   "computePreferences": null,
   "dashboards": [],
   "environmentMetadata": {
    "base_environment": "",
    "environment_version": "2"
   },
   "inputWidgetPreferences": null,
   "language": "python",
   "notebookMetadata": {
    "mostRecentlyExecutedCommandWithImplicitDF": {
     "commandId": 6465306571843040,
     "dataframes": [
      "_sqldf"
     ]
    },
    "pythonIndentUnit": 4
   },
   "notebookName": "gold",
   "widgets": {}
  },
  "language_info": {
   "name": "python"
  }
 },
 "nbformat": 4,
 "nbformat_minor": 0
}
