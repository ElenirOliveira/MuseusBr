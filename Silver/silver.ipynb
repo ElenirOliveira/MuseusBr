{
 "cells": [
  {
   "cell_type": "code",
   "execution_count": 0,
   "metadata": {
    "application/vnd.databricks.v1+cell": {
     "cellMetadata": {
      "byteLimit": 2048000,
      "rowLimit": 10000
     },
     "inputWidgets": {},
     "nuid": "e43d32fc-b8a1-4c9b-b833-07c58f8bd475",
     "showTitle": false,
     "tableResultSettingsMap": {},
     "title": ""
    }
   },
   "outputs": [],
   "source": [
    "# Caminhos\n",
    "silver_path = \"/mnt/eoliveira/silver/museusbr\"\n",
    "bronze_path = \"/mnt/eoliveira/bronze/museusbr\"\n",
    "\n",
    "# Leitura da Bronze\n",
    "df_bronze = spark.read.parquet(bronze_path)"
   ]
  },
  {
   "cell_type": "markdown",
   "metadata": {
    "application/vnd.databricks.v1+cell": {
     "cellMetadata": {
      "byteLimit": 2048000,
      "rowLimit": 10000
     },
     "inputWidgets": {},
     "nuid": "4f46c5a0-63f5-4f80-92f8-71c7e6953cbd",
     "showTitle": false,
     "tableResultSettingsMap": {},
     "title": ""
    }
   },
   "source": [
    "# ✅ Resumo da Camada Silver \n"
   ]
  },
  {
   "cell_type": "markdown",
   "metadata": {
    "application/vnd.databricks.v1+cell": {
     "cellMetadata": {
      "byteLimit": 2048000,
      "rowLimit": 10000
     },
     "inputWidgets": {},
     "nuid": "dc234869-7c9d-4c9e-b862-053cc009889f",
     "showTitle": false,
     "tableResultSettingsMap": {},
     "title": ""
    }
   },
   "source": [
    "| Módulo | Função                                                                                                                                                                    |\n",
    "| ------ | ------------------------------------------------------------------------------------------------------------------------------------------------------------------------- |\n",
    "| 1      | **Preparação da Coluna de Localização**: limpeza com `trim`, verificação com `isNotNull` e `contains` e split seguro em `Latitude` e `Longitude` usando `when/otherwise`. |\n",
    "| 2      | **Seleção de Colunas**: escolha e renomeação de colunas principais com `select` e `alias`, incluindo `Latitude` e `Longitude` gerados no módulo anterior.                 |\n",
    "| 3      | **Criação da UDF `mapear_regiao`**: definição da função que classifica a `UF` em sua respectiva Região brasileira e registro como UDF no Spark.                           |\n",
    "| 4      | **Limpeza e Normalização**: aplicação de `coalesce` para tratamento de nulos, além de `trim`, `initcap` e `upper` para padronização dos textos.                           |\n",
    "| 5      | **Validação de Campos Nulos**: definição da função `validar_campos_nulos` utilizando `reduce` e `filter` para identificar registros com campos críticos faltando.         |\n",
    "| 6      | **Salvamento da Silver**: gravação final do DataFrame limpo (`df_silver_clean`) no Data Lake em formato Parquet com `overwrite` e mensagem de sucesso.                    |\n"
   ]
  },
  {
   "cell_type": "markdown",
   "metadata": {
    "application/vnd.databricks.v1+cell": {
     "cellMetadata": {
      "byteLimit": 2048000,
      "rowLimit": 10000
     },
     "inputWidgets": {},
     "nuid": "71f491a3-215c-4183-95bd-d0ff6bea3065",
     "showTitle": false,
     "tableResultSettingsMap": {},
     "title": ""
    }
   },
   "source": [
    "### Seleção e transformação dos campos para Silver"
   ]
  },
  {
   "cell_type": "code",
   "execution_count": 0,
   "metadata": {
    "application/vnd.databricks.v1+cell": {
     "cellMetadata": {
      "byteLimit": 2048000,
      "rowLimit": 10000
     },
     "inputWidgets": {},
     "nuid": "f3aa2b6f-742d-4f76-83fe-4b4ef199f8ae",
     "showTitle": false,
     "tableResultSettingsMap": {},
     "title": ""
    }
   },
   "outputs": [],
   "source": [
    "from pyspark.sql.functions import col, trim, upper, initcap, coalesce, lit, udf, split, when, length, lower, concat_ws, regexp_replace, regexp_extract\n",
    "from pyspark.sql.types import StringType"
   ]
  },
  {
   "cell_type": "code",
   "execution_count": 0,
   "metadata": {
    "application/vnd.databricks.v1+cell": {
     "cellMetadata": {
      "byteLimit": 2048000,
      "rowLimit": 10000
     },
     "inputWidgets": {},
     "nuid": "6cb41dba-b8ae-4498-a49f-9ab0e0c13a76",
     "showTitle": false,
     "tableResultSettingsMap": {},
     "title": ""
    }
   },
   "outputs": [],
   "source": [
    "# Preparar a coluna limpa de localização\n",
    "location_col = trim(col('metadata.location.value_as_string'))\n",
    "tem_coordenadas = (location_col.isNotNull()) & (length(location_col) > 0) & (location_col.contains(\",\"))\n",
    "\n",
    "latitude_col = when(tem_coordenadas, split(location_col, ',').getItem(0).cast('double')).otherwise(lit(0.0))\n",
    "longitude_col = when(tem_coordenadas, split(location_col, ',').getItem(1).cast('double')).otherwise(lit(0.0))"
   ]
  },
  {
   "cell_type": "code",
   "execution_count": 0,
   "metadata": {
    "application/vnd.databricks.v1+cell": {
     "cellMetadata": {
      "byteLimit": 2048000,
      "rowLimit": 10000
     },
     "inputWidgets": {},
     "nuid": "eb1570ee-5b14-46a3-8195-f269845c3281",
     "showTitle": false,
     "tableResultSettingsMap": {},
     "title": ""
    }
   },
   "outputs": [],
   "source": [
    "\n",
    "# Seleção das colunas principais\n",
    "df_silver = df_bronze.select(\n",
    "    col('id').cast('long').alias('Id'),\n",
    "    col('title').alias('Instituicoes'),\n",
    "    col('slug').alias('Slug'),\n",
    "    concat_ws(\", \", col('metadata.telefone.value')).alias('Telefone'),\n",
    "    concat_ws(\", \", col('metadata.email.value')).alias('Email'),\n",
    "    concat_ws(\", \", col('metadata.site-4.value')).alias('Site'),\n",
    "    col('metadata.uf.value_as_string').alias('UF'),\n",
    "    col('metadata.municipio.value_as_string').alias('Cidade'),\n",
    "    col('metadata.logradouro.value_as_string').alias('Endereco'),\n",
    "    col('description').alias('Descricao'),\n",
    "    col('metadata.mus_tipo.value_as_string').alias('Tipo'),\n",
    "    col('metadata.mus_tipo_tematica.value_as_string').alias('Tematica'),\n",
    "    col('metadata.dias-e-horarios-de-abertura-para-o-publico.value').alias('Dias-Horarios-Abertura'),\n",
    "    concat_ws(\", \", col('metadata.valor-da-entrada.value')).alias('Valor-Entrada'),\n",
    "    col('metadata.a-entrada-ao-museu-e-cobrada.value').alias('Entrada-Cobrada'),\n",
    "    col('metadata.o-museu-promove-visitas-com-guia-mediador-monitor-educador-orientador.value').alias('Visita-Guiada'),\n",
    "    concat_ws(\", \", col('metadata.cnpj.value')).alias('CNPJ'),\n",
    "    concat_ws(\", \", col('metadata.instituicao-mantenedora.value')).alias('Instituicao-Mantenedora'),\n",
    "    latitude_col.alias('Latitude'),\n",
    "    longitude_col.alias('Longitude')\n",
    ")\n"
   ]
  },
  {
   "cell_type": "code",
   "execution_count": 0,
   "metadata": {
    "application/vnd.databricks.v1+cell": {
     "cellMetadata": {
      "byteLimit": 2048000,
      "rowLimit": 10000
     },
     "inputWidgets": {},
     "nuid": "3d832340-325b-4bbc-b6be-d47bb9caeef3",
     "showTitle": false,
     "tableResultSettingsMap": {},
     "title": ""
    }
   },
   "outputs": [],
   "source": [
    "\n",
    "# UDF para mapear região\n",
    "def mapear_regiao(uf):\n",
    "    regiao_norte = ['AC', 'AP', 'AM', 'PA', 'RO', 'RR', 'TO']\n",
    "    regiao_nordeste = ['AL', 'BA', 'CE', 'MA', 'PB', 'PE', 'PI', 'RN', 'SE']\n",
    "    regiao_centro_oeste = ['DF', 'GO', 'MT', 'MS']\n",
    "    regiao_sudeste = ['ES', 'MG', 'RJ', 'SP']\n",
    "    regiao_sul = ['PR', 'RS', 'SC']\n",
    "    if uf in regiao_norte:\n",
    "        return 'Norte'\n",
    "    elif uf in regiao_nordeste:\n",
    "        return 'Nordeste'\n",
    "    elif uf in regiao_centro_oeste:\n",
    "        return 'Centro-Oeste'\n",
    "    elif uf in regiao_sudeste:\n",
    "        return 'Sudeste'\n",
    "    elif uf in regiao_sul:\n",
    "        return 'Sul'\n",
    "    else:\n",
    "        return 'Desconhecida'\n",
    "\n",
    "mapear_regiao_udf = udf(mapear_regiao, StringType())"
   ]
  },
  {
   "cell_type": "code",
   "execution_count": 0,
   "metadata": {
    "application/vnd.databricks.v1+cell": {
     "cellMetadata": {
      "byteLimit": 2048000,
      "rowLimit": 10000
     },
     "inputWidgets": {},
     "nuid": "0873661e-5d00-4a8e-b341-ce85d80653d4",
     "showTitle": false,
     "tableResultSettingsMap": {},
     "title": ""
    }
   },
   "outputs": [],
   "source": [
    "# Limpeza e normalização\n",
    "\n",
    "df_silver_clean = (\n",
    "    df_silver\n",
    "    .withColumn('Instituicoes', initcap(trim(col('Instituicoes'))))\n",
    "    .withColumn('UF', upper(trim(col('UF'))))\n",
    "    .withColumn('Cidade', initcap(trim(col('Cidade'))))\n",
    "    .withColumn('Endereco', initcap(trim(col('Endereco'))))\n",
    "    .withColumn('Descricao', trim(col('Descricao')))\n",
    "    .withColumn('Tipo', regexp_replace(initcap(trim(col('Tipo'))), r'([a-z])([A-Z])', r'\\1 \\2'))\n",
    "    .withColumn('Tematica', initcap(trim(col('Tematica'))))\n",
    "    .withColumn('Regiao', mapear_regiao_udf(col('UF')))\n",
    "    .withColumn('Slug', initcap(trim(col('Slug'))))\n",
    "    .withColumn('Email', lower(trim(col('Email'))))\n",
    "    .withColumn('Instituicao-Mantenedora', initcap(lower(trim(col('Instituicao-Mantenedora')))))\n",
    ")\n"
   ]
  },
  {
   "cell_type": "code",
   "execution_count": 0,
   "metadata": {
    "application/vnd.databricks.v1+cell": {
     "cellMetadata": {
      "byteLimit": 2048000,
      "rowLimit": 10000
     },
     "inputWidgets": {},
     "nuid": "43890abb-b04a-4701-91aa-e3218704c0bc",
     "showTitle": false,
     "tableResultSettingsMap": {},
     "title": ""
    }
   },
   "outputs": [],
   "source": [
    "\n",
    "# Separar Aberto e Horario\n",
    "df_silver_clean = df_silver_clean.withColumn(\n",
    "    'Aberto',\n",
    "    when(\n",
    "        col('Dias-Horarios-Abertura').isNotNull() & (trim(col('Dias-Horarios-Abertura')) != ''),\n",
    "        trim(regexp_replace(split(col('Dias-Horarios-Abertura'), ':').getItem(0), r'\\d+', ''))\n",
    "    ).otherwise(lit('Não definido'))\n",
    ").withColumn(\n",
    "    'Horario',\n",
    "    when(\n",
    "        col('Dias-Horarios-Abertura').isNotNull() & (trim(col('Dias-Horarios-Abertura')) != ''),\n",
    "        regexp_extract(col('Dias-Horarios-Abertura'), r'(\\d{1,2}[:h]?\\d{0,2})', 1)\n",
    "    ).otherwise(lit('Não definido'))\n",
    ").drop('Dias-Horarios-Abertura')\n"
   ]
  },
  {
   "cell_type": "code",
   "execution_count": 0,
   "metadata": {
    "application/vnd.databricks.v1+cell": {
     "cellMetadata": {
      "byteLimit": 2048000,
      "rowLimit": 10000
     },
     "inputWidgets": {},
     "nuid": "38cc3ced-c315-401c-8e85-e9b89578e4f4",
     "showTitle": false,
     "tableResultSettingsMap": {},
     "title": ""
    }
   },
   "outputs": [],
   "source": [
    "# Transformar Entrada-Cobrada e Visita-Guiada\n",
    "df_silver_clean = df_silver_clean.withColumn(\n",
    "    'Entrada-Cobrada',\n",
    "    when(lower(trim(col('Entrada-Cobrada'))) == 'sim', lit('Sim')).otherwise(lit('Não'))\n",
    ").withColumn(\n",
    "    'Visita-Guiada',\n",
    "    when(lower(trim(col('Visita-Guiada'))) == 'sim', lit('Sim')).otherwise(lit('Não'))\n",
    ")"
   ]
  },
  {
   "cell_type": "code",
   "execution_count": 0,
   "metadata": {
    "application/vnd.databricks.v1+cell": {
     "cellMetadata": {
      "byteLimit": 2048000,
      "rowLimit": 10000
     },
     "inputWidgets": {},
     "nuid": "5a92983b-5358-4a7d-bbee-755d719fd018",
     "showTitle": false,
     "tableResultSettingsMap": {},
     "title": ""
    }
   },
   "outputs": [],
   "source": [
    "# Limpeza de caracteres especiais\n",
    "for campo in ['Instituicoes', 'Endereco', 'Descricao', 'Tipo', 'Tematica', 'Cidade', 'Slug', 'Aberto']:\n",
    "    df_silver_clean = df_silver_clean.withColumn(\n",
    "        campo,\n",
    "        regexp_replace(col(campo), '[^a-zA-Z0-9çÇáàãéèêíìóòõúùüÁÀÃÉÈÊÍÌÓÒÕÚÙÜ -]', '')\n",
    "    )"
   ]
  },
  {
   "cell_type": "code",
   "execution_count": 0,
   "metadata": {
    "application/vnd.databricks.v1+cell": {
     "cellMetadata": {
      "byteLimit": 2048000,
      "rowLimit": 10000
     },
     "inputWidgets": {},
     "nuid": "6a93a6fd-7483-4e24-b863-86a3ebcbc26f",
     "showTitle": false,
     "tableResultSettingsMap": {},
     "title": ""
    }
   },
   "outputs": [],
   "source": [
    "# Lista de todas as colunas a tratar\n",
    "colunas_a_tratar = [\n",
    "    'Instituicoes', 'Slug', 'Telefone', 'Email', 'Site', 'UF', 'Cidade',\n",
    "    'Endereco', 'Descricao', 'Tipo', 'Tematica', 'Valor-Entrada',\n",
    "    'Entrada-Cobrada', 'Visita-Guiada', 'CNPJ', 'Instituicao-Mantenedora',\n",
    "    'Aberto', 'Horario', 'Regiao'\n",
    "]"
   ]
  },
  {
   "cell_type": "code",
   "execution_count": 0,
   "metadata": {
    "application/vnd.databricks.v1+cell": {
     "cellMetadata": {
      "byteLimit": 2048000,
      "rowLimit": 10000
     },
     "inputWidgets": {},
     "nuid": "fa901996-ebe8-49d0-96fc-2df0eba83e10",
     "showTitle": false,
     "tableResultSettingsMap": {},
     "title": ""
    }
   },
   "outputs": [],
   "source": [
    "# Aplicar tratamento para cada coluna: se null ou vazia → \"Não informado\"\n",
    "for campo in colunas_a_tratar:\n",
    "    df_silver_clean = df_silver_clean.withColumn(\n",
    "        campo,\n",
    "        when(col(campo).isNull() | (trim(col(campo)) == ''), lit('Não informado')).otherwise(trim(col(campo)))\n",
    "    )"
   ]
  },
  {
   "cell_type": "code",
   "execution_count": 0,
   "metadata": {
    "application/vnd.databricks.v1+cell": {
     "cellMetadata": {
      "byteLimit": 2048000,
      "rowLimit": 10000
     },
     "inputWidgets": {},
     "nuid": "ec3c8ca4-7af4-4be4-81a2-34cfc08e3386",
     "showTitle": false,
     "tableResultSettingsMap": {},
     "title": ""
    }
   },
   "outputs": [],
   "source": [
    "# Validação de nulos\n",
    "def validar_campos_nulos(df, campos):\n",
    "    from functools import reduce\n",
    "    condicoes = [col(c).isNull() | (trim(col(c)) == '') for c in campos]\n",
    "    return df.filter(reduce(lambda a, b: a | b, condicoes))\n",
    "\n",
    "df_invalidos = validar_campos_nulos(df_silver_clean, colunas_a_tratar)\n",
    "print(\"Registros inválidos encontrados:\", df_invalidos.count())\n"
   ]
  },
  {
   "cell_type": "code",
   "execution_count": 0,
   "metadata": {
    "application/vnd.databricks.v1+cell": {
     "cellMetadata": {
      "byteLimit": 2048000,
      "rowLimit": 10000
     },
     "inputWidgets": {},
     "nuid": "6e5c3365-3c2b-4f87-89bb-c3e192f69aee",
     "showTitle": false,
     "tableResultSettingsMap": {},
     "title": ""
    }
   },
   "outputs": [],
   "source": [
    "# Salvar camada Silver\n",
    "silver_path = \"/mnt/eoliveira/silver/museusbr\"\n",
    "df_silver_clean.write.mode(\"overwrite\").parquet(silver_path)\n",
    "print(f\"✔ Silver salva com sucesso em: {silver_path}\")"
   ]
  },
  {
   "cell_type": "code",
   "execution_count": 0,
   "metadata": {
    "application/vnd.databricks.v1+cell": {
     "cellMetadata": {
      "byteLimit": 2048000,
      "rowLimit": 10000
     },
     "inputWidgets": {},
     "nuid": "81470fc9-5512-442e-ac16-48b68ac88bb2",
     "showTitle": false,
     "tableResultSettingsMap": {},
     "title": ""
    }
   },
   "outputs": [],
   "source": [
    "df_silver_clean.printSchema()"
   ]
  },
  {
   "cell_type": "code",
   "execution_count": 0,
   "metadata": {
    "application/vnd.databricks.v1+cell": {
     "cellMetadata": {
      "byteLimit": 2048000,
      "rowLimit": 10000
     },
     "inputWidgets": {},
     "nuid": "31941046-b622-4617-b794-6832de688e45",
     "showTitle": false,
     "tableResultSettingsMap": {},
     "title": ""
    }
   },
   "outputs": [],
   "source": [
    "# Visualização\n",
    "display(df_silver_clean)"
   ]
  },
  {
   "cell_type": "code",
   "execution_count": 0,
   "metadata": {
    "application/vnd.databricks.v1+cell": {
     "cellMetadata": {
      "byteLimit": 2048000,
      "rowLimit": 10000
     },
     "inputWidgets": {},
     "nuid": "a0a1b807-e65d-4fea-9baf-366d0bf1805e",
     "showTitle": false,
     "tableResultSettingsMap": {},
     "title": ""
    }
   },
   "outputs": [],
   "source": [
    "from pyspark.sql.functions import col, trim, upper, initcap, coalesce, lit, udf, split, when, length, lower, concat_ws, regexp_replace, regexp_extract\n",
    "from pyspark.sql.types import StringType\n",
    "\n",
    "# Preparar a coluna limpa de localização\n",
    "location_col = trim(col('metadata.location.value_as_string'))\n",
    "tem_coordenadas = (location_col.isNotNull()) & (length(location_col) > 0) & (location_col.contains(\",\"))\n",
    "\n",
    "latitude_col = when(tem_coordenadas, split(location_col, ',').getItem(0).cast('double')).otherwise(lit(0.0))\n",
    "longitude_col = when(tem_coordenadas, split(location_col, ',').getItem(1).cast('double')).otherwise(lit(0.0))\n",
    "\n",
    "# Seleção das colunas principais\n",
    "df_silver = df_bronze.select(\n",
    "    col('id').cast('long').alias('Id'),\n",
    "    col('title').alias('Instituicoes'),\n",
    "    col('slug').alias('Slug'),\n",
    "    concat_ws(\", \", col('metadata.telefone.value')).alias('Telefone'),\n",
    "    concat_ws(\", \", col('metadata.email.value')).alias('Email'),\n",
    "    concat_ws(\", \", col('metadata.site-4.value')).alias('Site'),\n",
    "    col('metadata.uf.value_as_string').alias('UF'),\n",
    "    col('metadata.municipio.value_as_string').alias('Cidade'),\n",
    "    col('metadata.logradouro.value_as_string').alias('Endereco'),\n",
    "    col('description').alias('Descricao'),\n",
    "    col('metadata.mus_tipo.value_as_string').alias('Tipo'),\n",
    "    col('metadata.mus_tipo_tematica.value_as_string').alias('Tematica'),\n",
    "    col('metadata.dias-e-horarios-de-abertura-para-o-publico.value').alias('Dias-Horarios-Abertura'),\n",
    "    concat_ws(\", \", col('metadata.valor-da-entrada.value')).alias('Valor-Entrada'),\n",
    "    col('metadata.a-entrada-ao-museu-e-cobrada.value').alias('Entrada-Cobrada'),\n",
    "    col('metadata.o-museu-promove-visitas-com-guia-mediador-monitor-educador-orientador.value').alias('Visita-Guiada'),\n",
    "    concat_ws(\", \", col('metadata.cnpj.value')).alias('CNPJ'),\n",
    "    concat_ws(\", \", col('metadata.instituicao-mantenedora.value')).alias('Instituicao-Mantenedora'),\n",
    "    latitude_col.alias('Latitude'),\n",
    "    longitude_col.alias('Longitude')\n",
    ")\n",
    "\n",
    "# UDF para mapear região\n",
    "def mapear_regiao(uf):\n",
    "    regiao_norte = ['AC', 'AP', 'AM', 'PA', 'RO', 'RR', 'TO']\n",
    "    regiao_nordeste = ['AL', 'BA', 'CE', 'MA', 'PB', 'PE', 'PI', 'RN', 'SE']\n",
    "    regiao_centro_oeste = ['DF', 'GO', 'MT', 'MS']\n",
    "    regiao_sudeste = ['ES', 'MG', 'RJ', 'SP']\n",
    "    regiao_sul = ['PR', 'RS', 'SC']\n",
    "    if uf in regiao_norte:\n",
    "        return 'Norte'\n",
    "    elif uf in regiao_nordeste:\n",
    "        return 'Nordeste'\n",
    "    elif uf in regiao_centro_oeste:\n",
    "        return 'Centro-Oeste'\n",
    "    elif uf in regiao_sudeste:\n",
    "        return 'Sudeste'\n",
    "    elif uf in regiao_sul:\n",
    "        return 'Sul'\n",
    "    else:\n",
    "        return 'Desconhecida'\n",
    "\n",
    "mapear_regiao_udf = udf(mapear_regiao, StringType())\n",
    "\n",
    "# Limpeza e normalização\n",
    "df_silver_clean = (\n",
    "    df_silver\n",
    "    .withColumn('Instituicoes', initcap(trim(col('Instituicoes'))))\n",
    "    .withColumn('UF', upper(trim(col('UF'))))\n",
    "    .withColumn('Cidade', initcap(trim(col('Cidade'))))\n",
    "    .withColumn('Endereco', initcap(trim(col('Endereco'))))\n",
    "    .withColumn('Descricao', trim(col('Descricao')))\n",
    "    .withColumn('Tipo', regexp_replace(initcap(trim(col('Tipo'))), r'([a-z])([A-Z])', r'\\1 \\2'))\n",
    "    .withColumn('Tematica', initcap(trim(col('Tematica'))))\n",
    "    .withColumn('Regiao', mapear_regiao_udf(col('UF')))\n",
    "    .withColumn('Slug', initcap(trim(col('Slug'))))\n",
    "    .withColumn('Email', lower(trim(col('Email'))))\n",
    "    .withColumn('Instituicao-Mantenedora', initcap(lower(trim(col('Instituicao-Mantenedora')))))\n",
    ")\n",
    "\n",
    "# Separar Aberto e Horario\n",
    "df_silver_clean = df_silver_clean.withColumn(\n",
    "    'Aberto',\n",
    "    when(\n",
    "        col('Dias-Horarios-Abertura').isNotNull() & (trim(col('Dias-Horarios-Abertura')) != ''),\n",
    "        trim(regexp_replace(split(col('Dias-Horarios-Abertura'), ':').getItem(0), r'\\d+', ''))\n",
    "    ).otherwise(lit('Não definido'))\n",
    ").withColumn(\n",
    "    'Horario',\n",
    "    when(\n",
    "        col('Dias-Horarios-Abertura').isNotNull() & (trim(col('Dias-Horarios-Abertura')) != ''),\n",
    "        regexp_extract(col('Dias-Horarios-Abertura'), r'(\\d{1,2}[:h]?\\d{0,2})', 1)\n",
    "    ).otherwise(lit('Não definido'))\n",
    ").drop('Dias-Horarios-Abertura')\n",
    "\n",
    "# Transformar Entrada-Cobrada e Visita-Guiada\n",
    "df_silver_clean = df_silver_clean.withColumn(\n",
    "    'Entrada-Cobrada',\n",
    "    when(lower(trim(col('Entrada-Cobrada'))) == 'sim', lit('Sim')).otherwise(lit('Não'))\n",
    ").withColumn(\n",
    "    'Visita-Guiada',\n",
    "    when(lower(trim(col('Visita-Guiada'))) == 'sim', lit('Sim')).otherwise(lit('Não'))\n",
    ")\n",
    "\n",
    "# Limpeza de caracteres especiais\n",
    "for campo in ['Instituicoes', 'Endereco', 'Descricao', 'Tipo', 'Tematica', 'Cidade', 'Slug', 'Aberto']:\n",
    "    df_silver_clean = df_silver_clean.withColumn(\n",
    "        campo,\n",
    "        regexp_replace(col(campo), '[^a-zA-Z0-9çÇáàãéèêíìóòõúùüÁÀÃÉÈÊÍÌÓÒÕÚÙÜ -]', '')\n",
    "    )\n",
    "\n",
    "# Lista de todas as colunas a tratar\n",
    "colunas_a_tratar = [\n",
    "    'Instituicoes', 'Slug', 'Telefone', 'Email', 'Site', 'UF', 'Cidade',\n",
    "    'Endereco', 'Descricao', 'Tipo', 'Tematica', 'Valor-Entrada',\n",
    "    'Entrada-Cobrada', 'Visita-Guiada', 'CNPJ', 'Instituicao-Mantenedora',\n",
    "    'Aberto', 'Horario', 'Regiao'\n",
    "]\n",
    "\n",
    "# Aplicar tratamento para cada coluna: se null ou vazia → \"Não informado\"\n",
    "for campo in colunas_a_tratar:\n",
    "    df_silver_clean = df_silver_clean.withColumn(\n",
    "        campo,\n",
    "        when(col(campo).isNull() | (trim(col(campo)) == ''), lit('Não informado')).otherwise(trim(col(campo)))\n",
    "    )\n",
    "\n",
    "# Validação de nulos\n",
    "def validar_campos_nulos(df, campos):\n",
    "    from functools import reduce\n",
    "    condicoes = [col(c).isNull() | (trim(col(c)) == '') for c in campos]\n",
    "    return df.filter(reduce(lambda a, b: a | b, condicoes))\n",
    "\n",
    "df_invalidos = validar_campos_nulos(df_silver_clean, colunas_a_tratar)\n",
    "print(\"Registros inválidos encontrados:\", df_invalidos.count())\n",
    "\n",
    "# Salvar camada Silver\n",
    "silver_path = \"/mnt/eoliveira/silver/museusbr\"\n",
    "df_silver_clean.write.mode(\"overwrite\").parquet(silver_path)\n",
    "print(f\"✔ Silver salva com sucesso em: {silver_path}\")\n"
   ]
  },
  {
   "cell_type": "code",
   "execution_count": 0,
   "metadata": {
    "application/vnd.databricks.v1+cell": {
     "cellMetadata": {
      "byteLimit": 2048000,
      "rowLimit": 10000
     },
     "inputWidgets": {},
     "nuid": "c4ffb60d-5515-4b8c-04f7ff97e69e",
     "showTitle": false,
     "tableResultSettingsMap": {},
     "title": ""
    }
   },
   "outputs": [],
   "source": [
    "from azure.identity import DefaultAzureCredential\n",
    "from azure.keyvault.secrets import SecretClient\n",
    " \n",
    "# Key Vault\n",
    "vault_url = \"https://.vault.azure.net/\"\n",
    "credential = DefaultAzureCredential()\n",
    "client = SecretClient(vault_url=vault_url, credential=credential)\n",
    " \n",
    "# Busca segredos\n",
    "server_name = client.get_secret(\\").value\n",
    "database_name = client.get_secret(\"\").value\n",
    "client_id = \"f\"\n",
    "client_secret = \"1\"\n",
    "tenant_id = \"\"\n",
    "\n",
    " \n",
    "# ✅ AQUI está o segredo: incluir clientId como user e clientSecret como password\n",
    "jdbc_url = (\n",
    "    f\"jdbc:sqlserver://{server_name}:1433;\"\n",
    "    f\"database={database_name};\"\n",
    "    f\"user={client_id};\"\n",
    "    f\"password={client_secret};\"\n",
    "    f\"encrypt=true;\"\n",
    "    f\"trustServerCertificate=false;\"\n",
    "    f\"hostNameInCertificate=*.database.windows.net;\"\n",
    "    f\"loginTimeout=30;\"\n",
    "    f\"authentication=ActivPrincipal;\"\n",
    "    f\"authority=https://login.microsoftonline.com/{tenant_id};\"\n",
    ")\n",
    "\n",
    "# ✅ Agora funciona corretamente\n",
    "df_silver_clean.write\\\n",
    "    .format(\"jdbc\") \\\n",
    "    .option(\"url\", jdbc_url) \\\n",
    "    .option(\"dbtable\", \"Elenir_Oliveira\") \\\n",
    "    .option(\"driver\", \"com.microsoft.sqlserver.jdbc\") \\\n",
    "    .mode(\"overwrite\") \\\n",
    "    .save()\n",
    " \n",
    "print(\"✅ Dados enviados com sucesso usando App Registration (Service Principal)!\")\n"
   ]
  }
 ],
 "metadata": {
  "application/vnd.databricks.v1+notebook": {
   "computePreferences": null,
   "dashboards": [
    {
     "elements": [],
     "globalVars": {},
     "guid": "",
     "layoutOption": {
      "grid": true,
      "stack": true
     },
     "nuid": "cc897ba6-17ef-43fc-5",
     "origId": 8635178,
     "title": "DashMuseus",
     "version": "DashboardViewV1",
     "width": 1024
    }
   ],
   "environmentMetadata": {
    "base_environment": "",
    "environment_version": "2"
   },
   "inputWidgetPreferences": null,
   "language": "python",
   "notebookMetadata": {
    "pythonIndentUnit": 4
   },
   "notebookName": "silver",
   "widgets": {}
  },
  "language_info": {
   "name": "python"
  }
 },
 "nbformat": 4,
 "nbformat_minor": 0
}
